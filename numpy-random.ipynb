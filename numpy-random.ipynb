{
 "cells": [
  {
   "cell_type": "markdown",
   "metadata": {},
   "source": [
    "# The numpy.random package"
   ]
  },
  {
   "cell_type": "markdown",
   "metadata": {},
   "source": [
    "## <font color='navy'> 1. Overall purpose of numpy.random package</font>"
   ]
  },
  {
   "cell_type": "markdown",
   "metadata": {},
   "source": [
    "#### References \n",
    "* [W3 Schools: Random Numbers in NumPy](https://www.w3schools.com/python/numpy_random.asp)\n",
    "* [Wikipedia : Random Number Generation](https://en.wikipedia.org/wiki/Random_number_generation)\n",
    "* [Numpy : Random](https://numpy.org/doc/stable/reference/random/index.html)\n",
    "* [What is NumPy?](https://numpy.org/doc/1.19/user/whatisnumpy.html)\n"
   ]
  },
  {
   "cell_type": "markdown",
   "metadata": {},
   "source": [
    "Random process is something that can not be predicted logically. A random number can be divided into 2 categories. \n",
    "\n",
    "* True Random Generator \n",
    "* Psedo Random Generator \n",
    "\n",
    "A True Random Generator uses an unpredictable physical environment attribute generate numbers. A psedo random generator uses a software algorithm to generate number that appear random but are actually determinstic and depend on a seed value.\n",
    "\n",
    "Numpy.random package consists of a  suite of functions based on pseudorandom number generation.  Numpy produces random numbers using combinations of a BitGenerator to create sequences and a Generator to use those sequences to sample from different statistical distributions."
   ]
  },
  {
   "cell_type": "markdown",
   "metadata": {},
   "source": [
    "#### 1.1 Simulating coin toss"
   ]
  },
  {
   "cell_type": "markdown",
   "metadata": {},
   "source": [
    "**References :**\n",
    "  *  [Simulating Coin Toss Experiment in Python with NumPy](https://cmdlinetips.com/2018/12/simulating-coin-toss-experiment-with-binomial-random-numbers-using-numpy/)\n",
    "  *  [Numpy : Random Generator](https://numpy.org/doc/stable/reference/random/generated/numpy.random.Generator.random.html#numpy.random.Generator.random)"
   ]
  },
  {
   "cell_type": "markdown",
   "metadata": {},
   "source": [
    "For example, the following examples simulates a random coin toss experiment using numpy.random package"
   ]
  },
  {
   "cell_type": "code",
   "execution_count": 1,
   "metadata": {},
   "outputs": [],
   "source": [
    "# import package numpy and matplotlib\n",
    "import numpy as np\n",
    "import matplotlib.pyplot as plt"
   ]
  },
  {
   "cell_type": "code",
   "execution_count": 2,
   "metadata": {},
   "outputs": [],
   "source": [
    "# new numpy recommendation\n",
    "rng = np.random.default_rng()"
   ]
  },
  {
   "cell_type": "code",
   "execution_count": 3,
   "metadata": {},
   "outputs": [
    {
     "data": {
      "text/plain": [
       "array([0.0608403 , 0.53637347, 0.24203776, 0.31429676, 0.84466972,\n",
       "       0.33605329, 0.84619449, 0.53384316, 0.20465714, 0.52739286])"
      ]
     },
     "execution_count": 3,
     "metadata": {},
     "output_type": "execute_result"
    }
   ],
   "source": [
    "# produce probablities for 10 coin tosses\n",
    "coin_toss_prob = rng.random(size=10)# Return 10 random floats in the half-open interval [0.0, 1.0)\n",
    "\n",
    "# this produces 10 random numbers between 0 and 1\n",
    "coin_toss_prob"
   ]
  },
  {
   "cell_type": "code",
   "execution_count": 4,
   "metadata": {},
   "outputs": [
    {
     "data": {
      "text/plain": [
       "array([False,  True, False, False,  True, False,  True,  True, False,\n",
       "        True])"
      ]
     },
     "execution_count": 4,
     "metadata": {},
     "output_type": "execute_result"
    }
   ],
   "source": [
    "#assign heads if the probabily is greater than 0.5\n",
    "heads = coin_toss_prob >=0.5\n",
    "heads"
   ]
  },
  {
   "cell_type": "code",
   "execution_count": 5,
   "metadata": {},
   "outputs": [
    {
     "data": {
      "text/plain": [
       "5"
      ]
     },
     "execution_count": 5,
     "metadata": {},
     "output_type": "execute_result"
    }
   ],
   "source": [
    "# calculate number of heads in 10 flips \n",
    "sum(heads)"
   ]
  },
  {
   "cell_type": "markdown",
   "metadata": {},
   "source": [
    "### 1.2 Rolling a die"
   ]
  },
  {
   "cell_type": "markdown",
   "metadata": {},
   "source": [
    "**References :** \n",
    "[Numpy documentation - integers method of a default_rng()](https://numpy.org/doc/stable/reference/random/generated/numpy.random.Generator.integers.html#numpy.random.Generator.integers)"
   ]
  },
  {
   "cell_type": "markdown",
   "metadata": {},
   "source": [
    "In this example, I will demonstrate how rolling a die can be a modelled using numpy.random. Here I will use randint function which produces a random integer value between the given bounds."
   ]
  },
  {
   "cell_type": "code",
   "execution_count": 6,
   "metadata": {},
   "outputs": [],
   "source": [
    "# this function returns a random integer between 1 and 6 (inclusive)\n",
    "def roll_die() : \n",
    "    return rng.integers(low=1,high=7) # low(inclusive) to high(exclusive)"
   ]
  },
  {
   "cell_type": "markdown",
   "metadata": {},
   "source": [
    "The result of 1.1 will be different everytime because the random generator was created without the seed.  Here the we will set seed value to 1 for reproducibility."
   ]
  },
  {
   "cell_type": "code",
   "execution_count": 7,
   "metadata": {},
   "outputs": [
    {
     "name": "stdout",
     "output_type": "stream",
     "text": [
      "3\n",
      "4\n",
      "5\n",
      "6\n",
      "1\n",
      "1\n"
     ]
    }
   ],
   "source": [
    "rng = np.random.default_rng(seed=1)\n",
    "\n",
    "# throw die 6 times\n",
    "for _ in range(6): \n",
    "    print(roll_die())"
   ]
  },
  {
   "cell_type": "markdown",
   "metadata": {},
   "source": [
    "The 6 rolls are 3, 4, 5 ,6 ,1 and 1 everytime because the generator is initialized with a seed value."
   ]
  },
  {
   "cell_type": "markdown",
   "metadata": {},
   "source": [
    "#### 1.3 Histogram of random numbers "
   ]
  },
  {
   "cell_type": "markdown",
   "metadata": {},
   "source": [
    "**References :** \n",
    "* [Datacamp: Random Number Generator Using Numpy](https://www.datacamp.com/community/tutorials/numpy-random)\n",
    "* [Real Python: Python Histogram Plotting: NumPy, Matplotlib, Pandas & Seaborn](https://realpython.com/python-histograms/)"
   ]
  },
  {
   "cell_type": "markdown",
   "metadata": {},
   "source": [
    "In this section I will generate 100,000 random numbers between zero and one, and then plot a histogram of the results. If the random numbers are random enough, then all bars of the histrogram should roughly equal."
   ]
  },
  {
   "cell_type": "code",
   "execution_count": 8,
   "metadata": {},
   "outputs": [],
   "source": [
    "# generate 100,000 random numbers\n",
    "rng = np.random.default_rng()\n",
    "random_numbers = rng.random(size=100000)"
   ]
  },
  {
   "cell_type": "code",
   "execution_count": 9,
   "metadata": {},
   "outputs": [],
   "source": [
    "# import plotting package\n",
    "import matplotlib.pyplot as plt "
   ]
  },
  {
   "cell_type": "code",
   "execution_count": 10,
   "metadata": {},
   "outputs": [
    {
     "data": {
      "image/png": "[encoded data removed]",
      "text/plain": [
       "<Figure size 432x288 with 1 Axes>"
      ]
     },
     "metadata": {
      "needs_background": "light"
     },
     "output_type": "display_data"
    }
   ],
   "source": [
    "# plot histogram of numbers numbers\n",
    "plt.hist(random_numbers, bins=10, rwidth=0.95)\n",
    "plt.show()"
   ]
  },
  {
   "cell_type": "markdown",
   "metadata": {},
   "source": [
    "## 2.Simple Random Data and Permutations Functions"
   ]
  },
  {
   "cell_type": "markdown",
   "metadata": {},
   "source": [
    "#### 2.1 Simple Random Data "
   ]
  },
  {
   "cell_type": "markdown",
   "metadata": {},
   "source": [
    "**References :** \n",
    "[Numpy documentation: Random Generator](https://numpy.org/doc/stable/reference/random/generator.html)\n"
   ]
  },
  {
   "cell_type": "markdown",
   "metadata": {},
   "source": [
    "Numpy.random module offers 4 functions that can be used to produce simple random data. There are \n",
    "* integers\n",
    "* random\n",
    "* choice \n",
    "* bytes\n",
    "\n",
    "we will explore each one in detail in this section"
   ]
  },
  {
   "cell_type": "markdown",
   "metadata": {},
   "source": [
    "#### 2.1.a integers\n",
    "\n",
    "The integers function can be used to generator a single random integer, a sequence of random integer or matrices consisiting of random integers\n"
   ]
  },
  {
   "cell_type": "code",
   "execution_count": 11,
   "metadata": {},
   "outputs": [
    {
     "data": {
      "text/plain": [
       "7"
      ]
     },
     "execution_count": 11,
     "metadata": {},
     "output_type": "execute_result"
    }
   ],
   "source": [
    "# Example 1 : generate a single random integer\n",
    "\n",
    "# define generator with seed\n",
    "rng = np.random.default_rng(seed=10)\n",
    "\n",
    "# generate a single random integer in the range 0 to 9. \n",
    "rng.integers(low=0, high=10)"
   ]
  },
  {
   "cell_type": "code",
   "execution_count": 12,
   "metadata": {},
   "outputs": [
    {
     "data": {
      "text/plain": [
       "array([7, 9, 2, 2, 7, 8, 5, 1, 8, 5], dtype=int64)"
      ]
     },
     "execution_count": 12,
     "metadata": {},
     "output_type": "execute_result"
    }
   ],
   "source": [
    "# Example 2 : generate a sequence of 10 random integers in the range 0  to 9\n",
    "\n",
    "# define generator with seed\n",
    "rng = np.random.default_rng(seed=10)\n",
    "\n",
    "# generate 10 random integers in the range 0 to 9. \n",
    "rng.integers(low=0, high=10, size=10)"
   ]
  },
  {
   "cell_type": "code",
   "execution_count": 13,
   "metadata": {},
   "outputs": [
    {
     "data": {
      "text/plain": [
       "array([[77, 95, 26],\n",
       "       [20, 79, 82],\n",
       "       [51, 14, 83]], dtype=int64)"
      ]
     },
     "execution_count": 13,
     "metadata": {},
     "output_type": "execute_result"
    }
   ],
   "source": [
    "# Example 3 : generate a random matrix of dimension 3 x 3 with values 0 to 99\n",
    "\n",
    "# define generator with seed\n",
    "rng = np.random.default_rng(seed=10)\n",
    "\n",
    "# generate a 3 x 3x 3 matrix with vales in the range 0 to 99. \n",
    "rng.integers(low=0, high=100, size=(3, 3))"
   ]
  },
  {
   "cell_type": "markdown",
   "metadata": {},
   "source": [
    "#### 2.1.b random\n",
    "\n",
    "**Reference(s) :** \n",
    "[Numpy documentation : numpy.random.Generator.random](https://numpy.org/doc/stable/reference/random/generated/numpy.random.Generator.random.html#numpy.random.Generator.random)\n",
    "\n",
    "random function returns a  random floats in the half-open interval [0.0, 1.0). Similar to integers above this function can also return a single random value, a list of values or a matrix\n"
   ]
  },
  {
   "cell_type": "code",
   "execution_count": 14,
   "metadata": {},
   "outputs": [
    {
     "data": {
      "text/plain": [
       "0.6294597490843067"
      ]
     },
     "execution_count": 14,
     "metadata": {},
     "output_type": "execute_result"
    }
   ],
   "source": [
    "# Example 1 : generate a  random float\n",
    "\n",
    "# define generator without seed\n",
    "rng = np.random.default_rng()\n",
    "\n",
    "# generate a single random integer in the range 0 to 9. \n",
    "rng.random()"
   ]
  },
  {
   "cell_type": "code",
   "execution_count": 15,
   "metadata": {},
   "outputs": [
    {
     "data": {
      "text/plain": [
       "array([0.95600171, 0.20768181, 0.82844489, 0.14928212, 0.51280462,\n",
       "       0.1359196 , 0.68903648, 0.84174772, 0.425509  , 0.956926  ])"
      ]
     },
     "execution_count": 15,
     "metadata": {},
     "output_type": "execute_result"
    }
   ],
   "source": [
    "# Example 2 : generate a list of random floats\n",
    "\n",
    "# define generator with seed\n",
    "rng = np.random.default_rng(seed=10)\n",
    "\n",
    "# generate a list of random values. \n",
    "rng.random(size=10)"
   ]
  },
  {
   "cell_type": "code",
   "execution_count": 16,
   "metadata": {},
   "outputs": [
    {
     "data": {
      "text/plain": [
       "array([[[0.80500292, 0.80794079, 0.51532556],\n",
       "        [0.28580138, 0.0539307 , 0.38336888],\n",
       "        [0.40847321, 0.04527519, 0.04875771]],\n",
       "\n",
       "       [[0.99917612, 0.65236911, 0.2345102 ],\n",
       "        [0.43494755, 0.97418619, 0.89767761],\n",
       "        [0.84423104, 0.39240466, 0.49302302]],\n",
       "\n",
       "       [[0.67668935, 0.06080271, 0.55559612],\n",
       "        [0.2714516 , 0.87965117, 0.06421444],\n",
       "        [0.67918153, 0.8700885 , 0.22731853]]])"
      ]
     },
     "execution_count": 16,
     "metadata": {},
     "output_type": "execute_result"
    }
   ],
   "source": [
    "# Example 3 : generate a random matrix\n",
    "\n",
    "# define generator with seed\n",
    "rng = np.random.default_rng(seed=5)\n",
    "\n",
    "# generate 3 x 3 x 3 matrix consisting of random floats in the range [0,1). \n",
    "rng.random(size=(3,3,3))"
   ]
  },
  {
   "cell_type": "markdown",
   "metadata": {},
   "source": [
    "#### 2.1.c choice\n",
    "\n",
    "**Reference(s) :** \n",
    "* [Numpy documentation : numpy.random.Generator.choice](https://numpy.org/doc/stable/reference/random/generated/numpy.random.Generator.choice.html#numpy.random.Generator.choice)\n",
    "* [harpsightlabs.com - HOW TO USE NUMPY RANDOM CHOICE](https://www.sharpsightlabs.com/blog/numpy-random-choice/)\n",
    "* [RIP tutorial - Selecting a random sample from an array](https://riptutorial.com/numpy/example/6745/selecting-a-random-sample-from-an-array)\n",
    "\n",
    "choice generates a random sample from a given 1-D array. In other words, choice helps you draw a random sample from a population with or without replacement. \n",
    "\n",
    "It has many practical applications in areas such as probablity, Baysien statistics, machine learning, simulationing experimental conditions etc. \n"
   ]
  },
  {
   "cell_type": "code",
   "execution_count": 17,
   "metadata": {},
   "outputs": [],
   "source": [
    "# Example 1 : create a random sample of 10 from an array consisting of 1000 numbers \n",
    "\n",
    "# create an array with elements from 0 to 999\n",
    "population = np.arange(1000) \n",
    "\n",
    "# draw a random sample of 10 \n",
    "rng = np.random.default_rng(seed= 0)\n",
    "sample1 = rng.choice(population, 10)\n",
    "\n",
    "# draw another random sample of 10\n",
    "rng = np.random.default_rng(seed= 1)\n",
    "sample2= rng.choice(population,10)\n",
    "\n",
    "# draw another random of sample 10 , using the same seed as first\n",
    "rng = np.random.default_rng(seed=0)\n",
    "sample3 = rng.choice(population, 10)"
   ]
  },
  {
   "cell_type": "code",
   "execution_count": 18,
   "metadata": {},
   "outputs": [
    {
     "data": {
      "text/plain": [
       "array([850, 636, 511, 269, 307,  40,  75,  16, 175, 813])"
      ]
     },
     "execution_count": 18,
     "metadata": {},
     "output_type": "execute_result"
    }
   ],
   "source": [
    "sample1"
   ]
  },
  {
   "cell_type": "code",
   "execution_count": 19,
   "metadata": {},
   "outputs": [
    {
     "data": {
      "text/plain": [
       "array([473, 511, 755, 950,  34, 144, 822, 948, 249, 311])"
      ]
     },
     "execution_count": 19,
     "metadata": {},
     "output_type": "execute_result"
    }
   ],
   "source": [
    "sample2"
   ]
  },
  {
   "cell_type": "code",
   "execution_count": 20,
   "metadata": {},
   "outputs": [
    {
     "data": {
      "text/plain": [
       "array([850, 636, 511, 269, 307,  40,  75,  16, 175, 813])"
      ]
     },
     "execution_count": 20,
     "metadata": {},
     "output_type": "execute_result"
    }
   ],
   "source": [
    "# sample1 and sample3 are exactly the same, because same seed value was used to draw both samples\n",
    "sample3"
   ]
  },
  {
   "cell_type": "markdown",
   "metadata": {},
   "source": [
    "We can also use an integer instead of an array as the first argument. in the first argument n is an integer a random sample is generated as if a was np.arange(n)"
   ]
  },
  {
   "cell_type": "code",
   "execution_count": 21,
   "metadata": {},
   "outputs": [],
   "source": [
    "# Example 2 : create a random sample of 10 from an array consisting of 1000 numbers \n",
    "\n",
    "# draw a random sample of 10 \n",
    "rng = np.random.default_rng(0)\n",
    "sample4 = rng.choice(1000, 10)\n",
    "\n",
    "# draw another random sample of 10\n",
    "rng = np.random.default_rng(1)\n",
    "sample5= np.random.choice(1000,10)"
   ]
  },
  {
   "cell_type": "code",
   "execution_count": 22,
   "metadata": {},
   "outputs": [
    {
     "data": {
      "text/plain": [
       "array([850, 636, 511, 269, 307,  40,  75,  16, 175, 813], dtype=int64)"
      ]
     },
     "execution_count": 22,
     "metadata": {},
     "output_type": "execute_result"
    }
   ],
   "source": [
    "# same as sample 1\n",
    "sample4"
   ]
  },
  {
   "cell_type": "code",
   "execution_count": 23,
   "metadata": {},
   "outputs": [
    {
     "data": {
      "text/plain": [
       "array([399, 674,  40, 716, 322, 419, 808, 805, 588, 520])"
      ]
     },
     "execution_count": 23,
     "metadata": {},
     "output_type": "execute_result"
    }
   ],
   "source": [
    "# same as sample 2\n",
    "sample5"
   ]
  },
  {
   "cell_type": "markdown",
   "metadata": {},
   "source": [
    "The choice function also has an argument p, that allows probabilities associated with each entry in array to be specified. If p is not given the sample assumes a uniform distribution over all entries in the input array."
   ]
  },
  {
   "cell_type": "code",
   "execution_count": 24,
   "metadata": {},
   "outputs": [
    {
     "data": {
      "text/plain": [
       "array(['b', 'd', 'a', 'd', 'a', 'a', 'c', 'a', 'b', 'a', 'c', 'b', 'a',\n",
       "       'c', 'a', 'a', 'a', 'a', 'a', 'a'], dtype='<U1')"
      ]
     },
     "execution_count": 24,
     "metadata": {},
     "output_type": "execute_result"
    }
   ],
   "source": [
    "# define a numpy char array with elements a,b,c,d & e\n",
    "input_array = np.array(['a','b','c','d','e'])\n",
    "\n",
    "# a has a 50% chance of being included, b=25%, c=15%, d=7% and e=3%\n",
    "prob = np.array([0.5, 0.25, 0.15, 0.07, 0.03])\n",
    "\n",
    "# create a sample of 20 letters with replacement\n",
    "rng = np.random.default_rng(1)\n",
    "letters_sample = rng.choice(input_array, 20, p=prob)\n",
    "letters_sample\n",
    "#As you can see the letter 'a' is more frequent, followed by 'b' and 'c' in the sample"
   ]
  },
  {
   "cell_type": "markdown",
   "metadata": {},
   "source": [
    "By default, the replace is set to True. Settings replace=False produces a sample without replacement. We wil use this function to write a function that produces \"lucky dip\" for a lottery "
   ]
  },
  {
   "cell_type": "code",
   "execution_count": 25,
   "metadata": {},
   "outputs": [],
   "source": [
    "def lucky_dip() : \n",
    "    rng = np.random.default_rng() # no seed\n",
    "    valid_numbers = np.arange(start=1, stop=51) # [start, stop) => range 1 to 50\n",
    "    \n",
    "    #pick 6 numbers from valid numbers without replacement \n",
    "    lottery_numbers=  rng.choice(valid_numbers, 6, replace=False)\n",
    "    \n",
    "    # order the picked numbers \n",
    "    lottery_numbers_ordered = np.sort(lottery_numbers)\n",
    "    \n",
    "    return lottery_numbers_ordered"
   ]
  },
  {
   "cell_type": "code",
   "execution_count": 26,
   "metadata": {},
   "outputs": [
    {
     "data": {
      "text/plain": [
       "array([13, 26, 31, 37, 44, 48])"
      ]
     },
     "execution_count": 26,
     "metadata": {},
     "output_type": "execute_result"
    }
   ],
   "source": [
    "# I am feeling lucky !!\n",
    "lucky_dip()"
   ]
  },
  {
   "cell_type": "markdown",
   "metadata": {},
   "source": [
    "#### 2.1.d bytes\n",
    "\n",
    "**Reference(s) :** \n",
    "[Numpy documentation numpy.random.Generator.bytes](https://numpy.org/doc/stable/reference/random/generated/numpy.random.Generator.bytes.html#numpy.random.Generator.bytes)\n",
    "\n",
    "bytes function returns random bytes of given length"
   ]
  },
  {
   "cell_type": "code",
   "execution_count": 27,
   "metadata": {},
   "outputs": [
    {
     "data": {
      "text/plain": [
       "b'qPJV\\\\Bb\\xb9\\xba\\xf6'"
      ]
     },
     "execution_count": 27,
     "metadata": {},
     "output_type": "execute_result"
    }
   ],
   "source": [
    "#Example 1\n",
    "rng = np.random.default_rng()\n",
    "\n",
    "# generate a random bytes of lenth 10\n",
    "rng.bytes(10)"
   ]
  },
  {
   "cell_type": "markdown",
   "metadata": {},
   "source": [
    "#### 2.2 Permutations Functions\n",
    "\n",
    "**Reference(s) :** \n",
    "* [Numpy documentation : Permutation](https://numpy.org/devdocs/reference/random/generated/numpy.random.Generator.permutation.html#numpy.random.Generator.permutation)\n",
    "* [Towards Data Science - How to generate pseudo-random datasets in Python](https://towardsdatascience.com/how-to-generate-pseudo-random-datasets-in-python-start-from-scratch-with-numpy-faker-c5661e3bc58b)\n",
    "* [RIP tutorial - Selecting a random sample from an array](https://riptutorial.com/numpy/example/6745/selecting-a-random-sample-from-an-array)\n",
    "\n",
    "Numpy random package has 2 permutations functions. These are : <br/>\n",
    "* shuffle\n",
    "* permutation\n",
    "\n",
    "Both methods are used to permute the sequence randomly. The main difference between the two is that the shuffle() method modifies the sequence in-place (returns None), while the permutation() method generates a new ndarray of the same shape after the modification\n"
   ]
  },
  {
   "cell_type": "markdown",
   "metadata": {},
   "source": [
    "First we will use shuffle to permute numpy 1D arrays and n-D arrays"
   ]
  },
  {
   "cell_type": "code",
   "execution_count": 28,
   "metadata": {},
   "outputs": [
    {
     "name": "stdout",
     "output_type": "stream",
     "text": [
      "[0 1 2 3 4 5 6 7 8 9]\n",
      "[0 1 2 3 4 5 6 7 8 9]\n"
     ]
    }
   ],
   "source": [
    "# Create 2 1D arrays\n",
    "arr = np.arange(10)\n",
    "print(arr)\n",
    "\n",
    "arr_2 = np.arange(10)\n",
    "print(arr_2)"
   ]
  },
  {
   "cell_type": "code",
   "execution_count": 29,
   "metadata": {},
   "outputs": [
    {
     "data": {
      "text/plain": [
       "array([8, 1, 6, 3, 9, 0, 4, 5, 2, 7])"
      ]
     },
     "execution_count": 29,
     "metadata": {},
     "output_type": "execute_result"
    }
   ],
   "source": [
    "# shuffle arr\n",
    "rng = np.random.default_rng() # no seed\n",
    "rng.shuffle(arr)\n",
    "\n",
    "# array is now shuffled \"in-place\"\n",
    "arr"
   ]
  },
  {
   "cell_type": "code",
   "execution_count": 30,
   "metadata": {},
   "outputs": [
    {
     "name": "stdout",
     "output_type": "stream",
     "text": [
      "[1 8 0 2 7 5 6 9 4 3]\n",
      "[0 1 2 3 4 5 6 7 8 9]\n"
     ]
    }
   ],
   "source": [
    "# Apply permutation to arr_2 \n",
    "rng = np.random.default_rng() # no seed\n",
    "print(rng.permutation(arr_2))\n",
    "\n",
    "# note the arr_2 itself is not permuted, this is the difference between shuffle and permutation\n",
    "print(arr_2)"
   ]
  },
  {
   "cell_type": "code",
   "execution_count": 31,
   "metadata": {},
   "outputs": [
    {
     "data": {
      "text/plain": [
       "array([[0, 1, 2, 3, 4],\n",
       "       [5, 6, 7, 8, 9]])"
      ]
     },
     "execution_count": 31,
     "metadata": {},
     "output_type": "execute_result"
    }
   ],
   "source": [
    "# Example 2: shuffle 2D array\n",
    "arr_2d = np.arange(10).reshape(2,5)\n",
    "arr_2d"
   ]
  },
  {
   "cell_type": "code",
   "execution_count": 32,
   "metadata": {},
   "outputs": [
    {
     "data": {
      "text/plain": [
       "array([[2, 0, 4, 3, 1],\n",
       "       [7, 5, 9, 8, 6]])"
      ]
     },
     "execution_count": 32,
     "metadata": {},
     "output_type": "execute_result"
    }
   ],
   "source": [
    "# shuffle arr\n",
    "rng = np.random.default_rng()  # no seed\n",
    "\n",
    "# shuffle row values\n",
    "rng.shuffle(arr_2d, axis=1) \n",
    "\n",
    "arr_2d # array is sorted in-place"
   ]
  },
  {
   "cell_type": "code",
   "execution_count": 33,
   "metadata": {},
   "outputs": [
    {
     "data": {
      "text/plain": [
       "array([[[ 0,  1,  2],\n",
       "        [ 3,  4,  5],\n",
       "        [ 6,  7,  8]],\n",
       "\n",
       "       [[ 9, 10, 11],\n",
       "        [12, 13, 14],\n",
       "        [15, 16, 17]],\n",
       "\n",
       "       [[18, 19, 20],\n",
       "        [21, 22, 23],\n",
       "        [24, 25, 26]]])"
      ]
     },
     "execution_count": 33,
     "metadata": {},
     "output_type": "execute_result"
    }
   ],
   "source": [
    "#Similarly permutation can also be applied n-D arrays\n",
    "arr_3D = np.arange(27).reshape(3,3,3)\n",
    "arr_3D"
   ]
  },
  {
   "cell_type": "code",
   "execution_count": 34,
   "metadata": {},
   "outputs": [
    {
     "data": {
      "text/plain": [
       "array([[[ 9, 10, 11],\n",
       "        [12, 13, 14],\n",
       "        [15, 16, 17]],\n",
       "\n",
       "       [[ 0,  1,  2],\n",
       "        [ 3,  4,  5],\n",
       "        [ 6,  7,  8]],\n",
       "\n",
       "       [[18, 19, 20],\n",
       "        [21, 22, 23],\n",
       "        [24, 25, 26]]])"
      ]
     },
     "execution_count": 34,
     "metadata": {},
     "output_type": "execute_result"
    }
   ],
   "source": [
    "# apply permutation to arr_3D\n",
    "rng = np.random.default_rng()\n",
    "rng.permutation(arr_3D, axis=0)"
   ]
  },
  {
   "cell_type": "markdown",
   "metadata": {},
   "source": [
    "###<font color='navy'> 3. Distribution Functions</font>"
   ]
  },
  {
   "cell_type": "markdown",
   "metadata": {},
   "source": [
    "**Reference(s) :** \n",
    "[Numpy documentation : Random Generator](https://numpy.org/doc/stable/reference/random/generator.html)\n"
   ]
  },
  {
   "cell_type": "markdown",
   "metadata": {},
   "source": [
    "numpy.random numerous common statistical functions that can be used to draw a sample from a particular distribution. \n",
    "\n",
    "This section explores the use and purpose of of the following distribution functions\n",
    "* Uniform distribution\n",
    "* Binomial Distribution\n",
    "* Normal Distribution\n",
    "* Exponential Distribution\n",
    "* Poisson Distribution\n"
   ]
  },
  {
   "cell_type": "markdown",
   "metadata": {},
   "source": [
    "### 3.1 Uniform Distribution"
   ]
  },
  {
   "cell_type": "markdown",
   "metadata": {},
   "source": [
    "**Reference(s) :** \n",
    "* [Numpy documentation - numpy.random.Generator.uniform](https://numpy.org/doc/stable/reference/random/generated/numpy.random.Generator.uniform.html#numpy-random-generator-uniform)\n",
    "* [Datacamp - Probability Distributions in Python](https://www.datacamp.com/community/tutorials/probability-distributions-python)"
   ]
  },
  {
   "cell_type": "markdown",
   "metadata": {},
   "source": [
    "The function uniform draws a random sample from a uniform distribution\n",
    "\n",
    "A continous variable X  is said to have a uniform distribution if all values between two boundaries a and b occur equally.\n",
    "\n",
    "The probability distribution function of uniform distribution is: <br/>\n",
    "$$f(x)=1/(b-a) $$ for a<=x <=b \n",
    "               \n",
    "Since any interval of numbers of equal width has an equal probability of being observed, the curve describing the distribution is a rectangle, with constant height across the interval and 0 height elsewhere. Since the area under the curve must be equal to 1, the length of the interval determines the height of the curve."
   ]
  },
  {
   "cell_type": "code",
   "execution_count": 35,
   "metadata": {},
   "outputs": [],
   "source": [
    "#Now we will use use uniform function in numpy.random.Generator to draw a uniform sample\n",
    "\n",
    "# the default a(low) and b(high) values are 0 and 1 \n",
    "# draw a sample of 100,000 uniformly distributed sample between 0 and 1\n",
    "rng = np.random.default_rng(seed=0)\n",
    "sample_uniform = rng.uniform(size=100000)"
   ]
  },
  {
   "cell_type": "code",
   "execution_count": 36,
   "metadata": {},
   "outputs": [
    {
     "data": {
      "image/png": "[encoded data removed]",
      "text/plain": [
       "<Figure size 432x288 with 1 Axes>"
      ]
     },
     "metadata": {
      "needs_background": "light"
     },
     "output_type": "display_data"
    }
   ],
   "source": [
    "# plot a histogram\n",
    "plt.hist(sample_uniform, bins=100)\n",
    "plt.title('Histogram - Uniform Distribution')\n",
    "plt.ylabel('Frequency')\n",
    "plt.show()"
   ]
  },
  {
   "cell_type": "markdown",
   "metadata": {},
   "source": [
    "As you can see from the chart above, numbers of samples in each bin are roughly equal. "
   ]
  },
  {
   "cell_type": "code",
   "execution_count": 37,
   "metadata": {},
   "outputs": [
    {
     "data": {
      "image/png": "[encoded data removed]",
      "text/plain": [
       "<Figure size 432x288 with 1 Axes>"
      ]
     },
     "metadata": {
      "needs_background": "light"
     },
     "output_type": "display_data"
    }
   ],
   "source": [
    "#Example 2 : Uniform distribution between 100 and 500\n",
    "rng = np.random.default_rng(seed=0)\n",
    "sample_uniform_2 = rng.uniform(100, 500, size=100000)\n",
    "\n",
    "# plot a histogram\n",
    "plt.hist(sample_uniform_2, bins=100)\n",
    "plt.title('Histogram - Uniform Distribution')\n",
    "plt.ylabel('Frequency')\n",
    "plt.show()"
   ]
  },
  {
   "cell_type": "markdown",
   "metadata": {},
   "source": [
    "### 3.2 Binomial Distribution"
   ]
  },
  {
   "cell_type": "markdown",
   "metadata": {},
   "source": [
    "**Reference(s) :** \n",
    "* [Numpy documentation - numpy.random.Generator.binomial](https://numpy.org/doc/stable/reference/random/generated/numpy.random.Generator.binomial.html#numpy.random.Generator.binomial)\n",
    "* [Datacamp - Probability Distributions in Python](https://www.datacamp.com/community/tutorials/probability-distributions-python)"
   ]
  },
  {
   "cell_type": "markdown",
   "metadata": {},
   "source": [
    "A Binomial Distribution is a dritribution where only two outcomes are possible. The outcomes need not be equally likely, and each trial is independent of each other. The parameters of a binomial distribution are n and p where n is the total number of trials, and p is the probability of success in each trial."
   ]
  },
  {
   "cell_type": "markdown",
   "metadata": {},
   "source": [
    "The function binomial() draws a ramdom sample from a binomial distribution. "
   ]
  },
  {
   "cell_type": "markdown",
   "metadata": {},
   "source": [
    "**Example 1** <br/>\n",
    "Suppose we want to calculate the probability of getting 3 sixes in row when rolling a die. \n",
    "\n",
    "One apporach is probability theroy. The probability of getting one six = 1/6. Since each event is independent the probability of getting 3 sixes in a row is (1/6)^3 = 1/216 or 0.462%\n",
    "\n",
    "Alternatively, we can use binomial distribution sampling to estimate the probability"
   ]
  },
  {
   "cell_type": "code",
   "execution_count": 38,
   "metadata": {},
   "outputs": [
    {
     "data": {
      "text/plain": [
       "0.0046"
      ]
     },
     "execution_count": 38,
     "metadata": {},
     "output_type": "execute_result"
    }
   ],
   "source": [
    "# random number generator\n",
    "rng = np.random.default_rng(seed=1)\n",
    "\n",
    "# 3 experimets, the prob of success is 1/6\n",
    "n = 3 \n",
    "p = 1/6 \n",
    "\n",
    "# lets do this experiments 100,000 times and calculate on how many experiments we got three 6s in a row\n",
    "trials = 100000\n",
    "\n",
    "sample_binomial = rng.binomial(n, p, trials)\n",
    "sum(sample_binomial == 3)/trials "
   ]
  },
  {
   "cell_type": "markdown",
   "metadata": {},
   "source": [
    "We got an answer of 0.46% which is very close the acutal probability of 0.462%. In many real world situtations estimating true probability mathematically will be impossible. In these situations, sampling is good trick to came up with a very close estimate "
   ]
  },
  {
   "cell_type": "markdown",
   "metadata": {},
   "source": [
    "**Plotting the binominal distribution**"
   ]
  },
  {
   "cell_type": "markdown",
   "metadata": {},
   "source": [
    "Lets plot the sample distribution obtained in exmaple 1. The chart below shows how many times we received 0 , 1, 2 and 3 sixes. "
   ]
  },
  {
   "cell_type": "code",
   "execution_count": 39,
   "metadata": {},
   "outputs": [
    {
     "data": {
      "image/png": "[encoded data removed]",
      "text/plain": [
       "<Figure size 432x288 with 1 Axes>"
      ]
     },
     "metadata": {
      "needs_background": "light"
     },
     "output_type": "display_data"
    }
   ],
   "source": [
    "plt.hist(sample_binomial)\n",
    "plt.xticks([0,1,2,3])\n",
    "plt.xlabel('Number of 6s out of 3 trails')\n",
    "plt.ylabel('Frequency')\n",
    "plt.show()"
   ]
  },
  {
   "cell_type": "markdown",
   "metadata": {},
   "source": [
    "### 3.3 Normal Distribution"
   ]
  },
  {
   "cell_type": "markdown",
   "metadata": {},
   "source": [
    "**Reference(s) :** \n",
    "* [Numpy documentation - numpy.random.Generator.normal](https://numpy.org/doc/stable/reference/random/generated/numpy.random.Generator.normal.html#numpy.random.Generator.normal)\n",
    "* [W3 Schools - Probability Distributions in Python](w3schools.com/python/numpy_random_normal.asp) \n",
    "* [Geek for Geeks -Python – Normal Distribution in Statistics](https://www.geeksforgeeks.org/python-normal-distribution-in-statistics/)\n",
    "* [Datacamp - Probability Distributions in Python](https://www.datacamp.com/community/tutorials/probability-distributions-python)\n",
    "* [Seaborn - kdeplot](https://seaborn.pydata.org/generated/seaborn.kdeplot.html)"
   ]
  },
  {
   "cell_type": "markdown",
   "metadata": {},
   "source": [
    "Normal Distribution, also known as Gaussian distribution as a bell-shaped density curve escribed by its mean μ and standard deviation σ. The density curve is symmetrical, centered about its mean, with its spread determined by its standard deviation showing that data near the mean are more frequent in occurrence than data far from the mean.\n",
    "\n",
    "Almost 68% of the data falls within a distance of one standard deviation from the mean on either side and 95% within two standard deviations. A normal distribution with mean 0 and standard deviation 1 is called a \"standard normal distribution\"\n",
    "\n",
    "In real world height, weigt, IQ Scores, Heart beat, income, shoe size are all normally distributed"
   ]
  },
  {
   "cell_type": "markdown",
   "metadata": {},
   "source": [
    "**Example 1**  <br/>\n",
    "According this [news article](https://www.thejournal.ie/height-irish-2899850-Jul2016/) the average height of an Irish man 180cm and average heights of an Irish woman is 165cm. Lets assume the standard deviation of men is 7cm and standard distribution of women is 5cm\n",
    "\n",
    "We can use numpy.random package to draw 1,000 samples of men and women heights from these distributions"
   ]
  },
  {
   "cell_type": "code",
   "execution_count": 40,
   "metadata": {},
   "outputs": [],
   "source": [
    "# obtain a sample of 1000 men heights\n",
    "sample_heights_men = np.random.default_rng(seed=1).normal(loc=180, scale=7, size=1000)\n",
    "\n",
    "#obtain a sample of 1000 women heights\n",
    "sample_heights_women = np.random.default_rng(seed=1).normal(loc=165, scale=5, size=1000)"
   ]
  },
  {
   "cell_type": "code",
   "execution_count": 41,
   "metadata": {},
   "outputs": [
    {
     "data": {
      "image/png": "[encoded data removed]",
      "text/plain": [
       "<Figure size 432x288 with 1 Axes>"
      ]
     },
     "metadata": {
      "needs_background": "light"
     },
     "output_type": "display_data"
    }
   ],
   "source": [
    "#plot men heights\n",
    "plt.hist(sample_heights_men, bins=20,rwidth=0.9)\n",
    "plt.title('Irish men heights')\n",
    "plt.show()"
   ]
  },
  {
   "cell_type": "markdown",
   "metadata": {},
   "source": [
    "Lets plot both samples on the same chart using Seaborn package."
   ]
  },
  {
   "cell_type": "code",
   "execution_count": 42,
   "metadata": {},
   "outputs": [
    {
     "data": {
      "image/png": "[encoded data removed]",
      "text/plain": [
       "<Figure size 432x288 with 1 Axes>"
      ]
     },
     "metadata": {
      "needs_background": "light"
     },
     "output_type": "display_data"
    }
   ],
   "source": [
    "import seaborn as sns\n",
    "fig, ax = plt.subplots() # common layouts\n",
    "sns.kdeplot(sample_heights_men, label='men', ax=ax)\n",
    "sns.kdeplot(sample_heights_women,label='women', ax=ax)\n",
    "ax.set_xlabel('Heights in cm')\n",
    "plt.legend()\n",
    "plt.show()"
   ]
  },
  {
   "cell_type": "markdown",
   "metadata": {},
   "source": [
    "### 3.4 Exponential Distribution"
   ]
  },
  {
   "cell_type": "markdown",
   "metadata": {},
   "source": [
    "**Reference(s) :** \n",
    "* [Numpy documentation - numpy.random.Generator.exponential](https://numpy.org/doc/stable/reference/random/generated/numpy.random.Generator.exponential.html#numpy.random.Generator.exponential)\n",
    "* [Geek for Geeks -Python – numpy.random.exponential() in Python](https://www.geeksforgeeks.org/numpy-random-exponential-in-python/)\n",
    "* [Datacamp - Probability Distributions in Python](https://www.datacamp.com/community/tutorials/probability-distributions-python)"
   ]
  },
  {
   "cell_type": "markdown",
   "metadata": {},
   "source": [
    "The exponential distribution describes a process in which events occur continuously and independently at a constant average rate. It has a parameter λ called rate parameter, and its equation is described as :\n",
    "\n",
    "$$f(x,λ)= λe-λx $$ for x >=0 and 0 otherwise\n",
    "\n",
    "It is used to distribution used to model the time we need to wait before a given event occurs. Real world examples include time between telephone calls received by a call center, years until next flooding etc\n",
    "\n",
    "The exponential function in numpy.ramdom package has one parameter β.  β is the scale parameter, which is the inverse of the rate parameter λ and must be non-negative"
   ]
  },
  {
   "cell_type": "markdown",
   "metadata": {},
   "source": [
    "**Example:** <br/>Suppose the β is 5. Lets draw a sample of 1000 from this exponential distribution"
   ]
  },
  {
   "cell_type": "code",
   "execution_count": 43,
   "metadata": {},
   "outputs": [
    {
     "data": {
      "image/png": "[encoded data removed]",
      "text/plain": [
       "<Figure size 432x288 with 1 Axes>"
      ]
     },
     "metadata": {
      "needs_background": "light"
     },
     "output_type": "display_data"
    }
   ],
   "source": [
    "# draw a sample\n",
    "sample_exp = np.random.default_rng(seed=1).exponential(scale=5, size=1000)\n",
    "\n",
    "# plot  the exponential distribution\n",
    "plt.hist(sample_exp, bins=20,rwidth=0.9)\n",
    "plt.show()"
   ]
  },
  {
   "cell_type": "markdown",
   "metadata": {},
   "source": [
    "### 3.5 Poisson Distribution"
   ]
  },
  {
   "cell_type": "markdown",
   "metadata": {},
   "source": [
    "**Reference(s) :** \n",
    "* [Numpy documentation - numpy.random.Generator.poisson](https://numpy.org/doc/stable/reference/random/generated/numpy.random.Generator.poisson.html#numpy.random.Generator.poisson)\n",
    "* [towardsdatascience.com - The Poisson Process: Everything you need to know](https://towardsdatascience.com/the-poisson-process-everything-you-need-to-know-322aa0ab9e9a)\n",
    "* [Datacamp - Probability Distributions in Python](https://www.datacamp.com/community/tutorials/probability-distributions-python)"
   ]
  },
  {
   "cell_type": "markdown",
   "metadata": {},
   "source": [
    "A Poisson Process is a model for a series of discrete event where the average time between events is known, but the exact timing of events is random. Poisson random variable is typically used to model the number of times an event happened in a time interval.\n",
    "\n",
    "It has a connection to the  Exponential distribution in 3.4.  The interval of time between consecutive events (inter-arrival times) in a possion distribution is exponentially distributed (therefore continous distribtuion) \n",
    "\n",
    "The average number of events in an interval is designated λ (lambda). Lambda is the event rate, also called the rate parameter. The probability of observing k events in an interval is given by the equation:"
   ]
  },
  {
   "cell_type": "markdown",
   "metadata": {},
   "source": [
    "<write the formula here> \n",
    "https://numpy.org/doc/stable/reference/random/generated/numpy.random.Generator.poisson.html#numpy.random.Generator.poisson"
   ]
  },
  {
   "cell_type": "markdown",
   "metadata": {},
   "source": [
    "**Example 1 - Call centre** <br/> \n",
    "For example, suppose we own a callcentre and a call is received every 2 mins, but arrival of one call does not alter the probability of the next. This is a poisson distribution."
   ]
  },
  {
   "cell_type": "code",
   "execution_count": 44,
   "metadata": {},
   "outputs": [
    {
     "data": {
      "image/png": "[encoded data removed]",
      "text/plain": [
       "<Figure size 432x288 with 1 Axes>"
      ]
     },
     "metadata": {
      "needs_background": "light"
     },
     "output_type": "display_data"
    }
   ],
   "source": [
    "# define generator \n",
    "rng = np.random.default_rng(seed=0)\n",
    "\n",
    "# draw a sample of 10000, the arrival of next 10, 000 calls\n",
    "sample_poisson = rng.poisson(3, 1000)\n",
    "\n",
    "# plot the sample \n",
    "plt.hist(sample_poisson, bins=10,rwidth=0.9)\n",
    "plt.show()"
   ]
  },
  {
   "cell_type": "markdown",
   "metadata": {},
   "source": [
    "## <font color='navy'> 4. Use of seeds in generating pseudorandom numbers </font>"
   ]
  },
  {
   "cell_type": "code",
   "execution_count": null,
   "metadata": {},
   "outputs": [],
   "source": []
  }
 ],
 "metadata": {
  "kernelspec": {
   "display_name": "Python 3",
   "language": "python",
   "name": "python3"
  },
  "language_info": {
   "codemirror_mode": {
    "name": "ipython",
    "version": 3
   },
   "file_extension": ".py",
   "mimetype": "text/x-python",
   "name": "python",
   "nbconvert_exporter": "python",
   "pygments_lexer": "ipython3",
   "version": "3.8.3"
  }
 },
 "nbformat": 4,
 "nbformat_minor": 4
}
