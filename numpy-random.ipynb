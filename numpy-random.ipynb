{
 "cells": [
  {
   "cell_type": "markdown",
   "metadata": {},
   "source": [
    "# The numpy.random package"
   ]
  },
  {
   "cell_type": "markdown",
   "metadata": {},
   "source": [
    "## 1. Explain the overall purpose of numpy.random package"
   ]
  },
  {
   "cell_type": "markdown",
   "metadata": {},
   "source": [
    "#### References \n",
    "* [W3 Schools: Random Numbers in NumPy](https://www.w3schools.com/python/numpy_random.asp)\n",
    "* [Wikipedia : Random Number Generation](https://en.wikipedia.org/wiki/Random_number_generation)\n",
    "* [Numpy : Random](https://numpy.org/doc/stable/reference/random/index.html)\n",
    "* [What is NumPy?](https://numpy.org/doc/1.19/user/whatisnumpy.html)\n"
   ]
  },
  {
   "cell_type": "markdown",
   "metadata": {},
   "source": [
    "Random process is something that can not be predicted logically. A random number can be divided into 2 categories. \n",
    "\n",
    "* True Random Generator \n",
    "* Psedo Random Generator \n",
    "\n",
    "A True Random Generator uses an unpredictable physical environment attribute generate numbers. A psedo random generator uses a software algorithm to generate number that appear random but are actually determinstic and depend on a seed value. <br/> \n",
    "\n",
    "Numpy.random package consists of a  suite of functions based on pseudorandom number generation.  Numpy produces random numbers using combinations of a BitGenerator to create sequences and a Generator to use those sequences to sample from different statistical distributions"
   ]
  },
  {
   "cell_type": "markdown",
   "metadata": {},
   "source": [
    "#### 1.1 Simulating coin toss"
   ]
  },
  {
   "cell_type": "markdown",
   "metadata": {},
   "source": [
    "**References :**\n",
    "    [Simulating Coin Toss Experiment in Python with NumPy](https://cmdlinetips.com/2018/12/simulating-coin-toss-experiment-with-binomial-random-numbers-using-numpy/)"
   ]
  },
  {
   "cell_type": "markdown",
   "metadata": {},
   "source": [
    "For example, the following examples simulates a random coin toss experiment using numpy.random package"
   ]
  },
  {
   "cell_type": "code",
   "execution_count": 11,
   "metadata": {},
   "outputs": [],
   "source": [
    "# import package numpy\n",
    "import numpy as np"
   ]
  },
  {
   "cell_type": "code",
   "execution_count": 2,
   "metadata": {},
   "outputs": [
    {
     "data": {
      "text/plain": [
       "array([0.99847561, 0.91051232, 0.76835425, 0.69616364, 0.82735055,\n",
       "       0.50664556, 0.15907407, 0.42582972, 0.04647474, 0.88505408])"
      ]
     },
     "execution_count": 2,
     "metadata": {},
     "output_type": "execute_result"
    }
   ],
   "source": [
    "# produce probablities for 10 coin tosses\n",
    "coin_toss_prob = np.random.random(size=10)\n",
    "\n",
    "# this produces 10 random numbers between 0 and 1\n",
    "coin_toss_prob"
   ]
  },
  {
   "cell_type": "code",
   "execution_count": 3,
   "metadata": {},
   "outputs": [
    {
     "data": {
      "text/plain": [
       "array([ True,  True,  True,  True,  True,  True, False, False, False,\n",
       "        True])"
      ]
     },
     "execution_count": 3,
     "metadata": {},
     "output_type": "execute_result"
    }
   ],
   "source": [
    "#assign heads if the probabily is greater than 0.5\n",
    "heads = coin_toss_prob >=0.5\n",
    "heads"
   ]
  },
  {
   "cell_type": "code",
   "execution_count": 4,
   "metadata": {},
   "outputs": [
    {
     "data": {
      "text/plain": [
       "7"
      ]
     },
     "execution_count": 4,
     "metadata": {},
     "output_type": "execute_result"
    }
   ],
   "source": [
    "# calculate number of heads in 10 flips \n",
    "sum(heads)"
   ]
  },
  {
   "cell_type": "markdown",
   "metadata": {},
   "source": [
    "### 1.2 Rolling a die\n",
    "\n",
    "**References :**\n",
    "[Numpy randint documentation](https://numpy.org/doc/stable/reference/random/generated/numpy.random.randint.html)\n",
    "\n",
    "In this example, I will demonstrate how rolling a die can be a modelled using numpy.random. Here i will use randint function which produces a random integer value between the given bounds.\n"
   ]
  },
  {
   "cell_type": "code",
   "execution_count": 9,
   "metadata": {},
   "outputs": [],
   "source": [
    "# this function returns a random integer between 1 and 6 (inclusive)\n",
    "def roll_die() : \n",
    "    return np.random.randint(1,7)"
   ]
  },
  {
   "cell_type": "markdown",
   "metadata": {},
   "source": [
    "1.1 produces a different sequence every time the juyptor notebook is run. This is because we did not set a seed value prior to calling the random function. Here we will set a seed value for reproducabilty"
   ]
  },
  {
   "cell_type": "code",
   "execution_count": 12,
   "metadata": {},
   "outputs": [
    {
     "name": "stdout",
     "output_type": "stream",
     "text": [
      "6\n",
      "4\n",
      "5\n",
      "1\n",
      "2\n"
     ]
    }
   ],
   "source": [
    "#set seed to zero\n",
    "np.random.seed(1)\n",
    "\n",
    "# throw die 6 times\n",
    "for _ in range(5): \n",
    "    print(roll_die())"
   ]
  },
  {
   "cell_type": "markdown",
   "metadata": {},
   "source": [
    "Here the results of the rolls are always 6,4,5,1,2 everytime. Becuase the seed was to 1 prior to running the roll_die function"
   ]
  },
  {
   "cell_type": "markdown",
   "metadata": {},
   "source": [
    "#### 1.3 Histogram of random numbers \n",
    "\n",
    "**References :** \n",
    "* [Datacamp: Random Number Generator Using Numpy](https://www.datacamp.com/community/tutorials/numpy-random)\n",
    "* [Real Python: Python Histogram Plotting: NumPy, Matplotlib, Pandas & Seaborn](https://realpython.com/python-histograms/)\n",
    "\n",
    "In this section I will generate 100,000 random numbers between zero and one, and then plot a histogram of the results. If the random numbers are random enough, then all bars of the histrogram should roughly equal"
   ]
  },
  {
   "cell_type": "code",
   "execution_count": 6,
   "metadata": {},
   "outputs": [],
   "source": [
    "# generate 100,000 random numbers\n",
    "random_numbers = np.random.random(size=100000)"
   ]
  },
  {
   "cell_type": "code",
   "execution_count": 7,
   "metadata": {},
   "outputs": [],
   "source": [
    "# import plotting package\n",
    "import matplotlib.pyplot as plt "
   ]
  },
  {
   "cell_type": "code",
   "execution_count": 8,
   "metadata": {},
   "outputs": [
    {
     "data": {
      "image/png": "[encoded data removed]",
      "text/plain": [
       "<Figure size 432x288 with 1 Axes>"
      ]
     },
     "metadata": {
      "needs_background": "light"
     },
     "output_type": "display_data"
    }
   ],
   "source": [
    "# plot histogram of numbers numbers\n",
    "plt.hist(random_numbers, bins=10, rwidth=0.95)\n",
    "plt.show()"
   ]
  },
  {
   "cell_type": "markdown",
   "metadata": {},
   "source": [
    "### 1.4 Producting Random Matrices\n",
    "*References:*\n",
    "[Numpy focumentation](https://numpy.org/doc/stable/reference/random/generated/numpy.random.randint.html)\n",
    "\n",
    "Numpy random functions can also be used to create random martrices. This has useful applications in machine learning and scientific experiments."
   ]
  },
  {
   "cell_type": "code",
   "execution_count": 14,
   "metadata": {},
   "outputs": [
    {
     "data": {
      "text/plain": [
       "array([[4.17022005e-01, 7.20324493e-01, 1.14374817e-04],\n",
       "       [3.02332573e-01, 1.46755891e-01, 9.23385948e-02]])"
      ]
     },
     "execution_count": 14,
     "metadata": {},
     "output_type": "execute_result"
    }
   ],
   "source": [
    "# create a random materix of size 2,3 with values between 0 and 1\n",
    "np.random.seed(1)\n",
    "matrix1 = np.random.random(size=(2,3))\n",
    "matrix1"
   ]
  },
  {
   "cell_type": "code",
   "execution_count": 16,
   "metadata": {},
   "outputs": [
    {
     "data": {
      "text/plain": [
       "array([[[8, 8, 6],\n",
       "        [2, 8, 7],\n",
       "        [2, 1, 5]],\n",
       "\n",
       "       [[4, 4, 5],\n",
       "        [7, 3, 6],\n",
       "        [4, 3, 7]],\n",
       "\n",
       "       [[6, 1, 3],\n",
       "        [5, 8, 4],\n",
       "        [6, 3, 9]]])"
      ]
     },
     "execution_count": 16,
     "metadata": {},
     "output_type": "execute_result"
    }
   ],
   "source": [
    "# create a 3x 3 x 3 random integer matrix with values 0 to 9\n",
    "np.random.seed(2)\n",
    "matrix_int = np.random.randint(0, 10, size=(3, 3, 3))\n",
    "matrix_int"
   ]
  },
  {
   "cell_type": "markdown",
   "metadata": {},
   "source": [
    "## 2.Simple Random Data and Permutations Functions"
   ]
  },
  {
   "cell_type": "code",
   "execution_count": null,
   "metadata": {},
   "outputs": [],
   "source": []
  }
 ],
 "metadata": {
  "kernelspec": {
   "display_name": "Python 3",
   "language": "python",
   "name": "python3"
  },
  "language_info": {
   "codemirror_mode": {
    "name": "ipython",
    "version": 3
   },
   "file_extension": ".py",
   "mimetype": "text/x-python",
   "name": "python",
   "nbconvert_exporter": "python",
   "pygments_lexer": "ipython3",
   "version": "3.8.3"
  }
 },
 "nbformat": 4,
 "nbformat_minor": 4
}
